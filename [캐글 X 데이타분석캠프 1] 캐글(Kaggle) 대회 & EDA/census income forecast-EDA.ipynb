{
 "cells": [
  {
   "cell_type": "markdown",
   "metadata": {},
   "source": [
    "## EDA(Exploratory Data Analysis)탐색적 데이터 분석\n",
    "\n",
    "모델링에 앞서 데이터를 살피는 과정 \n",
    "1. 분석의 목적과 변수가 무엇이 있는지 확인. 개별변수의 이름이나 성명을 가지고 있는지 확인\n",
    "2. 데이터를 전체적으로 살펴보기 (이상치,결측치 확인)\n",
    "3. 데이터의 개별 속성값 관찰\n",
    "4. 속성 간의 상관관계에 초첨을 맞추어, 개별 속성 관찰에서 찾아내지 못했던 패턴을 발견(상관관계, 시각화) \n",
    "\n",
    "> 시각화 기본: 구성, 분포, 관계, 비교"
   ]
  },
  {
   "cell_type": "code",
   "execution_count": 2,
   "metadata": {
    "_cell_guid": "b1076dfc-b9ad-4769-8c92-a6c4dae69d19",
    "_uuid": "8f2839f25d086af736a60e9eeb907d3b93b6e0e5"
   },
   "outputs": [],
   "source": [
    "\n",
    "import numpy as np \n",
    "import pandas as pd \n",
    "\n",
    "#시각화 라이브러리\n",
    "import matplotlib as plt\n",
    "import matplotlib.pyplot as plt\n",
    "import seaborn as sns\n",
    "\n",
    "import os\n",
    "for dirname, _, filenames in os.walk('/kaggle/input'):\n",
    "    for filename in filenames:\n",
    "        print(os.path.join(dirname, filename))\n",
    "\n"
   ]
  },
  {
   "cell_type": "code",
   "execution_count": 3,
   "metadata": {
    "_cell_guid": "79c7e3d0-c299-4dcb-8224-4455121ee9b0",
    "_uuid": "d629ff2d2480ee46fbb7e2d37f6b5fab8052498a"
   },
   "outputs": [],
   "source": [
    "train = pd.read_csv('train.csv')#파일입력\n",
    "test= pd.read_csv('test.csv')\n",
    "sample_submission= pd.read_csv('sample_submission.csv')\n",
    "#pd.read_csv()로 csv파일 불러오기\n"
   ]
  },
  {
   "cell_type": "code",
   "execution_count": 4,
   "metadata": {},
   "outputs": [
    {
     "data": {
      "text/html": [
       "<div>\n",
       "<style scoped>\n",
       "    .dataframe tbody tr th:only-of-type {\n",
       "        vertical-align: middle;\n",
       "    }\n",
       "\n",
       "    .dataframe tbody tr th {\n",
       "        vertical-align: top;\n",
       "    }\n",
       "\n",
       "    .dataframe thead th {\n",
       "        text-align: right;\n",
       "    }\n",
       "</style>\n",
       "<table border=\"1\" class=\"dataframe\">\n",
       "  <thead>\n",
       "    <tr style=\"text-align: right;\">\n",
       "      <th></th>\n",
       "      <th>id</th>\n",
       "      <th>age</th>\n",
       "      <th>workclass</th>\n",
       "      <th>fnlwgt</th>\n",
       "      <th>education</th>\n",
       "      <th>education_num</th>\n",
       "      <th>marital_status</th>\n",
       "      <th>occupation</th>\n",
       "      <th>relationship</th>\n",
       "      <th>race</th>\n",
       "      <th>sex</th>\n",
       "      <th>capital_gain</th>\n",
       "      <th>capital_loss</th>\n",
       "      <th>hours_per_week</th>\n",
       "      <th>native_country</th>\n",
       "      <th>income</th>\n",
       "    </tr>\n",
       "  </thead>\n",
       "  <tbody>\n",
       "    <tr>\n",
       "      <th>0</th>\n",
       "      <td>0</td>\n",
       "      <td>40</td>\n",
       "      <td>Private</td>\n",
       "      <td>168538</td>\n",
       "      <td>HS-grad</td>\n",
       "      <td>9</td>\n",
       "      <td>Married-civ-spouse</td>\n",
       "      <td>Sales</td>\n",
       "      <td>Husband</td>\n",
       "      <td>White</td>\n",
       "      <td>Male</td>\n",
       "      <td>0</td>\n",
       "      <td>0</td>\n",
       "      <td>60</td>\n",
       "      <td>United-States</td>\n",
       "      <td>&gt;50K</td>\n",
       "    </tr>\n",
       "    <tr>\n",
       "      <th>1</th>\n",
       "      <td>1</td>\n",
       "      <td>17</td>\n",
       "      <td>Private</td>\n",
       "      <td>101626</td>\n",
       "      <td>9th</td>\n",
       "      <td>5</td>\n",
       "      <td>Never-married</td>\n",
       "      <td>Machine-op-inspct</td>\n",
       "      <td>Own-child</td>\n",
       "      <td>White</td>\n",
       "      <td>Male</td>\n",
       "      <td>0</td>\n",
       "      <td>0</td>\n",
       "      <td>20</td>\n",
       "      <td>United-States</td>\n",
       "      <td>&lt;=50K</td>\n",
       "    </tr>\n",
       "    <tr>\n",
       "      <th>2</th>\n",
       "      <td>2</td>\n",
       "      <td>18</td>\n",
       "      <td>Private</td>\n",
       "      <td>353358</td>\n",
       "      <td>Some-college</td>\n",
       "      <td>10</td>\n",
       "      <td>Never-married</td>\n",
       "      <td>Other-service</td>\n",
       "      <td>Own-child</td>\n",
       "      <td>White</td>\n",
       "      <td>Male</td>\n",
       "      <td>0</td>\n",
       "      <td>0</td>\n",
       "      <td>16</td>\n",
       "      <td>United-States</td>\n",
       "      <td>&lt;=50K</td>\n",
       "    </tr>\n",
       "    <tr>\n",
       "      <th>3</th>\n",
       "      <td>3</td>\n",
       "      <td>21</td>\n",
       "      <td>Private</td>\n",
       "      <td>151158</td>\n",
       "      <td>Some-college</td>\n",
       "      <td>10</td>\n",
       "      <td>Never-married</td>\n",
       "      <td>Prof-specialty</td>\n",
       "      <td>Own-child</td>\n",
       "      <td>White</td>\n",
       "      <td>Female</td>\n",
       "      <td>0</td>\n",
       "      <td>0</td>\n",
       "      <td>25</td>\n",
       "      <td>United-States</td>\n",
       "      <td>&lt;=50K</td>\n",
       "    </tr>\n",
       "    <tr>\n",
       "      <th>4</th>\n",
       "      <td>4</td>\n",
       "      <td>24</td>\n",
       "      <td>Private</td>\n",
       "      <td>122234</td>\n",
       "      <td>Some-college</td>\n",
       "      <td>10</td>\n",
       "      <td>Never-married</td>\n",
       "      <td>Adm-clerical</td>\n",
       "      <td>Not-in-family</td>\n",
       "      <td>Black</td>\n",
       "      <td>Female</td>\n",
       "      <td>0</td>\n",
       "      <td>0</td>\n",
       "      <td>20</td>\n",
       "      <td>?</td>\n",
       "      <td>&lt;=50K</td>\n",
       "    </tr>\n",
       "    <tr>\n",
       "      <th>5</th>\n",
       "      <td>5</td>\n",
       "      <td>43</td>\n",
       "      <td>Private</td>\n",
       "      <td>236985</td>\n",
       "      <td>HS-grad</td>\n",
       "      <td>9</td>\n",
       "      <td>Married-civ-spouse</td>\n",
       "      <td>Craft-repair</td>\n",
       "      <td>Husband</td>\n",
       "      <td>Black</td>\n",
       "      <td>Male</td>\n",
       "      <td>0</td>\n",
       "      <td>0</td>\n",
       "      <td>40</td>\n",
       "      <td>United-States</td>\n",
       "      <td>&lt;=50K</td>\n",
       "    </tr>\n",
       "  </tbody>\n",
       "</table>\n",
       "</div>"
      ],
      "text/plain": [
       "   id  age workclass  fnlwgt     education  education_num      marital_status  \\\n",
       "0   0   40   Private  168538       HS-grad              9  Married-civ-spouse   \n",
       "1   1   17   Private  101626           9th              5       Never-married   \n",
       "2   2   18   Private  353358  Some-college             10       Never-married   \n",
       "3   3   21   Private  151158  Some-college             10       Never-married   \n",
       "4   4   24   Private  122234  Some-college             10       Never-married   \n",
       "5   5   43   Private  236985       HS-grad              9  Married-civ-spouse   \n",
       "\n",
       "          occupation   relationship   race     sex  capital_gain  \\\n",
       "0              Sales        Husband  White    Male             0   \n",
       "1  Machine-op-inspct      Own-child  White    Male             0   \n",
       "2      Other-service      Own-child  White    Male             0   \n",
       "3     Prof-specialty      Own-child  White  Female             0   \n",
       "4       Adm-clerical  Not-in-family  Black  Female             0   \n",
       "5       Craft-repair        Husband  Black    Male             0   \n",
       "\n",
       "   capital_loss  hours_per_week native_country income  \n",
       "0             0              60  United-States   >50K  \n",
       "1             0              20  United-States  <=50K  \n",
       "2             0              16  United-States  <=50K  \n",
       "3             0              25  United-States  <=50K  \n",
       "4             0              20              ?  <=50K  \n",
       "5             0              40  United-States  <=50K  "
      ]
     },
     "execution_count": 4,
     "metadata": {},
     "output_type": "execute_result"
    }
   ],
   "source": [
    "train.head(6) "
   ]
  },
  {
   "cell_type": "code",
   "execution_count": 5,
   "metadata": {},
   "outputs": [
    {
     "name": "stdout",
     "output_type": "stream",
     "text": [
      "Index(['id', 'age', 'workclass', 'fnlwgt', 'education', 'education_num',\n",
      "       'marital_status', 'occupation', 'relationship', 'race', 'sex',\n",
      "       'capital_gain', 'capital_loss', 'hours_per_week', 'native_country',\n",
      "       'income'],\n",
      "      dtype='object')\n"
     ]
    }
   ],
   "source": [
    "print(train.columns)"
   ]
  },
  {
   "cell_type": "markdown",
   "metadata": {},
   "source": [
    "데이터의 각 feature 설명 (data description에서 제공)\n",
    "\n",
    "* age : 나이\n",
    "* workclass : 고용 형태\n",
    "* fnlwgt : 사람 대표성을 나타내는 가중치 (final weight의 약자)\n",
    "* education : 교육 수준\n",
    "* education_num : 교육 수준 수치\n",
    "* marital_status: 결혼 상태\n",
    "* occupation : 업종\n",
    "* relationship : 가족 관계\n",
    "* race : 인종\n",
    "* sex : 성별\n",
    "* capital_gain : 양도 소득\n",
    "* capital_loss : 양도 손실\n",
    "* hours_per_week : 주당 근무 시간\n",
    "* native_country : 국적\n",
    "* income : 수익 (예측해야 하는 값)"
   ]
  },
  {
   "cell_type": "code",
   "execution_count": 6,
   "metadata": {},
   "outputs": [
    {
     "name": "stdout",
     "output_type": "stream",
     "text": [
      "<class 'pandas.core.frame.DataFrame'>\n",
      "RangeIndex: 26049 entries, 0 to 26048\n",
      "Data columns (total 16 columns):\n",
      "id                26049 non-null int64\n",
      "age               26049 non-null int64\n",
      "workclass         26049 non-null object\n",
      "fnlwgt            26049 non-null int64\n",
      "education         26049 non-null object\n",
      "education_num     26049 non-null int64\n",
      "marital_status    26049 non-null object\n",
      "occupation        26049 non-null object\n",
      "relationship      26049 non-null object\n",
      "race              26049 non-null object\n",
      "sex               26049 non-null object\n",
      "capital_gain      26049 non-null int64\n",
      "capital_loss      26049 non-null int64\n",
      "hours_per_week    26049 non-null int64\n",
      "native_country    26049 non-null object\n",
      "income            26049 non-null object\n",
      "dtypes: int64(7), object(9)\n",
      "memory usage: 3.2+ MB\n"
     ]
    }
   ],
   "source": [
    "train.info()\n"
   ]
  },
  {
   "cell_type": "markdown",
   "metadata": {},
   "source": [
    "info():\n",
    "* dataframe의 정보확인\n",
    "* null값 확인 \n",
    "* 'object'는 숫자형이 아닌 자료형 데이터이므로 전처리과정 필요"
   ]
  },
  {
   "cell_type": "code",
   "execution_count": 7,
   "metadata": {},
   "outputs": [
    {
     "data": {
      "text/plain": [
       "<matplotlib.axes._subplots.AxesSubplot at 0x28a4d65fb38>"
      ]
     },
     "execution_count": 7,
     "metadata": {},
     "output_type": "execute_result"
    },
    {
     "data": {
      "image/png": "[encoded data removed]",
      "text/plain": [
       "<Figure size 1800x720 with 2 Axes>"
      ]
     },
     "metadata": {
      "needs_background": "light"
     },
     "output_type": "display_data"
    }
   ],
   "source": [
    "import missingno as msno #missing value시각화\n",
    "msno.matrix(train)"
   ]
  },
  {
   "cell_type": "code",
   "execution_count": 8,
   "metadata": {},
   "outputs": [
    {
     "data": {
      "text/plain": [
       "Private             18123\n",
       "Self-emp-not-inc     2030\n",
       "Local-gov            1692\n",
       "?                    1502\n",
       "State-gov            1043\n",
       "Self-emp-inc          877\n",
       "Federal-gov           765\n",
       "Without-pay            11\n",
       "Never-worked            6\n",
       "Name: workclass, dtype: int64"
      ]
     },
     "execution_count": 8,
     "metadata": {},
     "output_type": "execute_result"
    }
   ],
   "source": [
    "train['workclass'].value_counts() \n",
    "#value_counts()각각의 피처값이 몇개씩 있는지 확인 "
   ]
  },
  {
   "cell_type": "code",
   "execution_count": 9,
   "metadata": {},
   "outputs": [
    {
     "data": {
      "image/png": "[encoded data removed]",
      "text/plain": [
       "<Figure size 864x360 with 1 Axes>"
      ]
     },
     "metadata": {
      "needs_background": "light"
     },
     "output_type": "display_data"
    }
   ],
   "source": [
    "fig,ax= plt.subplots(1,1,figsize=(12,5))#plot의 크기 지정 \n",
    "sns.countplot(data=train,x='workclass',ax=ax)#피처값 시각화\n",
    "plt.show()"
   ]
  },
  {
   "cell_type": "code",
   "execution_count": 10,
   "metadata": {},
   "outputs": [
    {
     "data": {
      "image/png": "[encoded data removed]",
      "text/plain": [
       "<Figure size 864x360 with 1 Axes>"
      ]
     },
     "metadata": {
      "needs_background": "light"
     },
     "output_type": "display_data"
    }
   ],
   "source": [
    "fig,ax= plt.subplots(1,1,figsize=(12,5))#plot의 크기 지정 \n",
    "sns.countplot(data=train,x='race',ax=ax,hue='sex')\n",
    "#피처값 시각화,#hue='',''값에 따라 다른 색상막대로 나누어 확인 가능 \n",
    "plt.show()"
   ]
  },
  {
   "cell_type": "code",
   "execution_count": 11,
   "metadata": {},
   "outputs": [
    {
     "name": "stdout",
     "output_type": "stream",
     "text": [
      "0.9.0\n"
     ]
    }
   ],
   "source": [
    "import seaborn as sns\n",
    "print(sns.__version__) #sns페키지의 virsion 확인 "
   ]
  },
  {
   "cell_type": "code",
   "execution_count": 12,
   "metadata": {},
   "outputs": [],
   "source": [
    "#!pip install seaborn==0.11 #sns페키지 11로 업데이트가능 "
   ]
  },
  {
   "cell_type": "code",
   "execution_count": 13,
   "metadata": {},
   "outputs": [
    {
     "data": {
      "text/html": [
       "<div>\n",
       "<style scoped>\n",
       "    .dataframe tbody tr th:only-of-type {\n",
       "        vertical-align: middle;\n",
       "    }\n",
       "\n",
       "    .dataframe tbody tr th {\n",
       "        vertical-align: top;\n",
       "    }\n",
       "\n",
       "    .dataframe thead th {\n",
       "        text-align: right;\n",
       "    }\n",
       "</style>\n",
       "<table border=\"1\" class=\"dataframe\">\n",
       "  <thead>\n",
       "    <tr style=\"text-align: right;\">\n",
       "      <th></th>\n",
       "      <th>id</th>\n",
       "      <th>age</th>\n",
       "      <th>fnlwgt</th>\n",
       "      <th>education_num</th>\n",
       "      <th>capital_gain</th>\n",
       "      <th>capital_loss</th>\n",
       "      <th>hours_per_week</th>\n",
       "    </tr>\n",
       "  </thead>\n",
       "  <tbody>\n",
       "    <tr>\n",
       "      <th>count</th>\n",
       "      <td>26049.000000</td>\n",
       "      <td>26049.000000</td>\n",
       "      <td>2.604900e+04</td>\n",
       "      <td>26049.000000</td>\n",
       "      <td>26049.00000</td>\n",
       "      <td>26049.000000</td>\n",
       "      <td>26049.000000</td>\n",
       "    </tr>\n",
       "    <tr>\n",
       "      <th>mean</th>\n",
       "      <td>13024.000000</td>\n",
       "      <td>38.569235</td>\n",
       "      <td>1.903045e+05</td>\n",
       "      <td>10.088372</td>\n",
       "      <td>1087.68970</td>\n",
       "      <td>87.732734</td>\n",
       "      <td>40.443126</td>\n",
       "    </tr>\n",
       "    <tr>\n",
       "      <th>std</th>\n",
       "      <td>7519.842917</td>\n",
       "      <td>13.671489</td>\n",
       "      <td>1.059663e+05</td>\n",
       "      <td>2.567610</td>\n",
       "      <td>7388.85469</td>\n",
       "      <td>403.230205</td>\n",
       "      <td>12.361850</td>\n",
       "    </tr>\n",
       "    <tr>\n",
       "      <th>min</th>\n",
       "      <td>0.000000</td>\n",
       "      <td>17.000000</td>\n",
       "      <td>1.376900e+04</td>\n",
       "      <td>1.000000</td>\n",
       "      <td>0.00000</td>\n",
       "      <td>0.000000</td>\n",
       "      <td>1.000000</td>\n",
       "    </tr>\n",
       "    <tr>\n",
       "      <th>25%</th>\n",
       "      <td>6512.000000</td>\n",
       "      <td>28.000000</td>\n",
       "      <td>1.181080e+05</td>\n",
       "      <td>9.000000</td>\n",
       "      <td>0.00000</td>\n",
       "      <td>0.000000</td>\n",
       "      <td>40.000000</td>\n",
       "    </tr>\n",
       "    <tr>\n",
       "      <th>50%</th>\n",
       "      <td>13024.000000</td>\n",
       "      <td>37.000000</td>\n",
       "      <td>1.788660e+05</td>\n",
       "      <td>10.000000</td>\n",
       "      <td>0.00000</td>\n",
       "      <td>0.000000</td>\n",
       "      <td>40.000000</td>\n",
       "    </tr>\n",
       "    <tr>\n",
       "      <th>75%</th>\n",
       "      <td>19536.000000</td>\n",
       "      <td>48.000000</td>\n",
       "      <td>2.377350e+05</td>\n",
       "      <td>12.000000</td>\n",
       "      <td>0.00000</td>\n",
       "      <td>0.000000</td>\n",
       "      <td>45.000000</td>\n",
       "    </tr>\n",
       "    <tr>\n",
       "      <th>max</th>\n",
       "      <td>26048.000000</td>\n",
       "      <td>90.000000</td>\n",
       "      <td>1.484705e+06</td>\n",
       "      <td>16.000000</td>\n",
       "      <td>99999.00000</td>\n",
       "      <td>4356.000000</td>\n",
       "      <td>99.000000</td>\n",
       "    </tr>\n",
       "  </tbody>\n",
       "</table>\n",
       "</div>"
      ],
      "text/plain": [
       "                 id           age        fnlwgt  education_num  capital_gain  \\\n",
       "count  26049.000000  26049.000000  2.604900e+04   26049.000000   26049.00000   \n",
       "mean   13024.000000     38.569235  1.903045e+05      10.088372    1087.68970   \n",
       "std     7519.842917     13.671489  1.059663e+05       2.567610    7388.85469   \n",
       "min        0.000000     17.000000  1.376900e+04       1.000000       0.00000   \n",
       "25%     6512.000000     28.000000  1.181080e+05       9.000000       0.00000   \n",
       "50%    13024.000000     37.000000  1.788660e+05      10.000000       0.00000   \n",
       "75%    19536.000000     48.000000  2.377350e+05      12.000000       0.00000   \n",
       "max    26048.000000     90.000000  1.484705e+06      16.000000   99999.00000   \n",
       "\n",
       "       capital_loss  hours_per_week  \n",
       "count  26049.000000    26049.000000  \n",
       "mean      87.732734       40.443126  \n",
       "std      403.230205       12.361850  \n",
       "min        0.000000        1.000000  \n",
       "25%        0.000000       40.000000  \n",
       "50%        0.000000       40.000000  \n",
       "75%        0.000000       45.000000  \n",
       "max     4356.000000       99.000000  "
      ]
     },
     "execution_count": 13,
     "metadata": {},
     "output_type": "execute_result"
    }
   ],
   "source": [
    "train.describe()"
   ]
  },
  {
   "cell_type": "code",
   "execution_count": 14,
   "metadata": {},
   "outputs": [
    {
     "data": {
      "image/png": "[encoded data removed]",
      "text/plain": [
       "<Figure size 864x360 with 1 Axes>"
      ]
     },
     "metadata": {
      "needs_background": "light"
     },
     "output_type": "display_data"
    }
   ],
   "source": [
    "import matplotlib as mpl\n",
    "import matplotlib.pyplot as plt\n",
    "\n",
    "fig,ax= plt.subplots(1,1,figsize=(12,5))#plot의 크기 지정 \n",
    "ax.hist(train['age'],width=4)#히스토그램 #width라인 간격 조정 가능 \n",
    "ax.set_title('Age distribution',fontweight='bold')\n",
    "plt.show()"
   ]
  },
  {
   "cell_type": "code",
   "execution_count": 15,
   "metadata": {},
   "outputs": [],
   "source": [
    "# sns.kdeplot(data=train, x='age')\n",
    "#이 밀도함수그래프식은 왜 에러가 나는지 ㅜ"
   ]
  },
  {
   "cell_type": "code",
   "execution_count": 16,
   "metadata": {
    "scrolled": true
   },
   "outputs": [
    {
     "data": {
      "text/plain": [
       "0        1\n",
       "1        0\n",
       "2        0\n",
       "3        0\n",
       "4        0\n",
       "5        0\n",
       "6        1\n",
       "7        0\n",
       "8        1\n",
       "9        1\n",
       "10       0\n",
       "11       0\n",
       "12       0\n",
       "13       0\n",
       "14       0\n",
       "15       0\n",
       "16       1\n",
       "17       0\n",
       "18       0\n",
       "19       1\n",
       "20       0\n",
       "21       1\n",
       "22       0\n",
       "23       0\n",
       "24       0\n",
       "25       0\n",
       "26       0\n",
       "27       0\n",
       "28       1\n",
       "29       0\n",
       "        ..\n",
       "26019    0\n",
       "26020    0\n",
       "26021    0\n",
       "26022    1\n",
       "26023    0\n",
       "26024    0\n",
       "26025    0\n",
       "26026    1\n",
       "26027    1\n",
       "26028    1\n",
       "26029    0\n",
       "26030    0\n",
       "26031    0\n",
       "26032    0\n",
       "26033    1\n",
       "26034    0\n",
       "26035    0\n",
       "26036    0\n",
       "26037    0\n",
       "26038    0\n",
       "26039    0\n",
       "26040    0\n",
       "26041    0\n",
       "26042    0\n",
       "26043    1\n",
       "26044    0\n",
       "26045    0\n",
       "26046    0\n",
       "26047    0\n",
       "26048    0\n",
       "Name: income, Length: 26049, dtype: int32"
      ]
     },
     "execution_count": 16,
     "metadata": {},
     "output_type": "execute_result"
    }
   ],
   "source": [
    "#income의 문자열데이터를 0,1로 바꾸기\n",
    "train['income']=(train['income']=='>50K').astype(int)\n",
    "train['income']\n"
   ]
  },
  {
   "cell_type": "markdown",
   "metadata": {},
   "source": [
    "'>50K'넘으면 1 아니면 0\n",
    "pivot table 생성 가능 "
   ]
  },
  {
   "cell_type": "code",
   "execution_count": 17,
   "metadata": {},
   "outputs": [
    {
     "data": {
      "text/html": [
       "<div>\n",
       "<style scoped>\n",
       "    .dataframe tbody tr th:only-of-type {\n",
       "        vertical-align: middle;\n",
       "    }\n",
       "\n",
       "    .dataframe tbody tr th {\n",
       "        vertical-align: top;\n",
       "    }\n",
       "\n",
       "    .dataframe thead th {\n",
       "        text-align: right;\n",
       "    }\n",
       "</style>\n",
       "<table border=\"1\" class=\"dataframe\">\n",
       "  <thead>\n",
       "    <tr style=\"text-align: right;\">\n",
       "      <th></th>\n",
       "      <th></th>\n",
       "      <th>id</th>\n",
       "      <th>age</th>\n",
       "      <th>fnlwgt</th>\n",
       "      <th>education_num</th>\n",
       "      <th>capital_gain</th>\n",
       "      <th>capital_loss</th>\n",
       "      <th>hours_per_week</th>\n",
       "      <th>income</th>\n",
       "    </tr>\n",
       "    <tr>\n",
       "      <th>race</th>\n",
       "      <th>sex</th>\n",
       "      <th></th>\n",
       "      <th></th>\n",
       "      <th></th>\n",
       "      <th></th>\n",
       "      <th></th>\n",
       "      <th></th>\n",
       "      <th></th>\n",
       "      <th></th>\n",
       "    </tr>\n",
       "  </thead>\n",
       "  <tbody>\n",
       "    <tr>\n",
       "      <th rowspan=\"2\" valign=\"top\">Amer-Indian-Eskimo</th>\n",
       "      <th>Female</th>\n",
       "      <td>12309.681818</td>\n",
       "      <td>37.454545</td>\n",
       "      <td>117238.954545</td>\n",
       "      <td>9.761364</td>\n",
       "      <td>646.636364</td>\n",
       "      <td>19.556818</td>\n",
       "      <td>36.204545</td>\n",
       "      <td>0.102273</td>\n",
       "    </tr>\n",
       "    <tr>\n",
       "      <th>Male</th>\n",
       "      <td>12441.331325</td>\n",
       "      <td>36.915663</td>\n",
       "      <td>125551.475904</td>\n",
       "      <td>9.090361</td>\n",
       "      <td>649.596386</td>\n",
       "      <td>53.662651</td>\n",
       "      <td>41.837349</td>\n",
       "      <td>0.120482</td>\n",
       "    </tr>\n",
       "    <tr>\n",
       "      <th rowspan=\"2\" valign=\"top\">Asian-Pac-Islander</th>\n",
       "      <th>Female</th>\n",
       "      <td>14562.177778</td>\n",
       "      <td>35.181481</td>\n",
       "      <td>146863.433333</td>\n",
       "      <td>10.325926</td>\n",
       "      <td>584.325926</td>\n",
       "      <td>61.122222</td>\n",
       "      <td>37.407407</td>\n",
       "      <td>0.125926</td>\n",
       "    </tr>\n",
       "    <tr>\n",
       "      <th>Male</th>\n",
       "      <td>12538.909434</td>\n",
       "      <td>38.884906</td>\n",
       "      <td>166262.398113</td>\n",
       "      <td>11.233962</td>\n",
       "      <td>2026.226415</td>\n",
       "      <td>135.403774</td>\n",
       "      <td>42.037736</td>\n",
       "      <td>0.341509</td>\n",
       "    </tr>\n",
       "    <tr>\n",
       "      <th rowspan=\"2\" valign=\"top\">Black</th>\n",
       "      <th>Female</th>\n",
       "      <td>12575.603774</td>\n",
       "      <td>37.939295</td>\n",
       "      <td>216797.705496</td>\n",
       "      <td>9.525021</td>\n",
       "      <td>487.988515</td>\n",
       "      <td>40.462674</td>\n",
       "      <td>36.796555</td>\n",
       "      <td>0.051682</td>\n",
       "    </tr>\n",
       "    <tr>\n",
       "      <th>Male</th>\n",
       "      <td>13192.518695</td>\n",
       "      <td>37.884646</td>\n",
       "      <td>243795.577566</td>\n",
       "      <td>9.482896</td>\n",
       "      <td>579.319809</td>\n",
       "      <td>76.113763</td>\n",
       "      <td>39.976134</td>\n",
       "      <td>0.190135</td>\n",
       "    </tr>\n",
       "    <tr>\n",
       "      <th rowspan=\"2\" valign=\"top\">Other</th>\n",
       "      <th>Female</th>\n",
       "      <td>13165.047059</td>\n",
       "      <td>31.435294</td>\n",
       "      <td>173440.082353</td>\n",
       "      <td>8.941176</td>\n",
       "      <td>236.129412</td>\n",
       "      <td>39.176471</td>\n",
       "      <td>36.670588</td>\n",
       "      <td>0.047059</td>\n",
       "    </tr>\n",
       "    <tr>\n",
       "      <th>Male</th>\n",
       "      <td>11760.907563</td>\n",
       "      <td>34.789916</td>\n",
       "      <td>220238.193277</td>\n",
       "      <td>8.907563</td>\n",
       "      <td>1799.764706</td>\n",
       "      <td>87.529412</td>\n",
       "      <td>41.403361</td>\n",
       "      <td>0.117647</td>\n",
       "    </tr>\n",
       "    <tr>\n",
       "      <th rowspan=\"2\" valign=\"top\">White</th>\n",
       "      <th>Female</th>\n",
       "      <td>13036.291238</td>\n",
       "      <td>36.844026</td>\n",
       "      <td>184007.053584</td>\n",
       "      <td>10.127589</td>\n",
       "      <td>580.929761</td>\n",
       "      <td>63.601738</td>\n",
       "      <td>36.209269</td>\n",
       "      <td>0.122085</td>\n",
       "    </tr>\n",
       "    <tr>\n",
       "      <th>Male</th>\n",
       "      <td>13049.281506</td>\n",
       "      <td>39.589163</td>\n",
       "      <td>189231.912524</td>\n",
       "      <td>10.149254</td>\n",
       "      <td>1386.644906</td>\n",
       "      <td>103.084945</td>\n",
       "      <td>42.687735</td>\n",
       "      <td>0.317846</td>\n",
       "    </tr>\n",
       "  </tbody>\n",
       "</table>\n",
       "</div>"
      ],
      "text/plain": [
       "                                     id        age         fnlwgt  \\\n",
       "race               sex                                              \n",
       "Amer-Indian-Eskimo Female  12309.681818  37.454545  117238.954545   \n",
       "                   Male    12441.331325  36.915663  125551.475904   \n",
       "Asian-Pac-Islander Female  14562.177778  35.181481  146863.433333   \n",
       "                   Male    12538.909434  38.884906  166262.398113   \n",
       "Black              Female  12575.603774  37.939295  216797.705496   \n",
       "                   Male    13192.518695  37.884646  243795.577566   \n",
       "Other              Female  13165.047059  31.435294  173440.082353   \n",
       "                   Male    11760.907563  34.789916  220238.193277   \n",
       "White              Female  13036.291238  36.844026  184007.053584   \n",
       "                   Male    13049.281506  39.589163  189231.912524   \n",
       "\n",
       "                           education_num  capital_gain  capital_loss  \\\n",
       "race               sex                                                 \n",
       "Amer-Indian-Eskimo Female       9.761364    646.636364     19.556818   \n",
       "                   Male         9.090361    649.596386     53.662651   \n",
       "Asian-Pac-Islander Female      10.325926    584.325926     61.122222   \n",
       "                   Male        11.233962   2026.226415    135.403774   \n",
       "Black              Female       9.525021    487.988515     40.462674   \n",
       "                   Male         9.482896    579.319809     76.113763   \n",
       "Other              Female       8.941176    236.129412     39.176471   \n",
       "                   Male         8.907563   1799.764706     87.529412   \n",
       "White              Female      10.127589    580.929761     63.601738   \n",
       "                   Male        10.149254   1386.644906    103.084945   \n",
       "\n",
       "                           hours_per_week    income  \n",
       "race               sex                               \n",
       "Amer-Indian-Eskimo Female       36.204545  0.102273  \n",
       "                   Male         41.837349  0.120482  \n",
       "Asian-Pac-Islander Female       37.407407  0.125926  \n",
       "                   Male         42.037736  0.341509  \n",
       "Black              Female       36.796555  0.051682  \n",
       "                   Male         39.976134  0.190135  \n",
       "Other              Female       36.670588  0.047059  \n",
       "                   Male         41.403361  0.117647  \n",
       "White              Female       36.209269  0.122085  \n",
       "                   Male         42.687735  0.317846  "
      ]
     },
     "execution_count": 17,
     "metadata": {},
     "output_type": "execute_result"
    }
   ],
   "source": [
    "train.groupby(['race','sex']).mean()"
   ]
  },
  {
   "cell_type": "markdown",
   "metadata": {},
   "source": [
    "위 그래프에서 백인 여성의 12%만이 소득이 5만불이 넘는다는 것을 확인 할 수 있다.\n"
   ]
  },
  {
   "cell_type": "code",
   "execution_count": 18,
   "metadata": {},
   "outputs": [
    {
     "data": {
      "text/html": [
       "<style  type=\"text/css\" >\n",
       "    #T_ca84f4e4_4a95_11eb_8ead_a0afbdd978e3row0_col0 {\n",
       "            background-color:  #e4e3f0;\n",
       "            color:  #000000;\n",
       "        }    #T_ca84f4e4_4a95_11eb_8ead_a0afbdd978e3row1_col0 {\n",
       "            background-color:  #dadaeb;\n",
       "            color:  #000000;\n",
       "        }    #T_ca84f4e4_4a95_11eb_8ead_a0afbdd978e3row2_col0 {\n",
       "            background-color:  #d6d6e9;\n",
       "            color:  #000000;\n",
       "        }    #T_ca84f4e4_4a95_11eb_8ead_a0afbdd978e3row3_col0 {\n",
       "            background-color:  #3f007d;\n",
       "            color:  #f1f1f1;\n",
       "        }    #T_ca84f4e4_4a95_11eb_8ead_a0afbdd978e3row4_col0 {\n",
       "            background-color:  #faf9fc;\n",
       "            color:  #000000;\n",
       "        }    #T_ca84f4e4_4a95_11eb_8ead_a0afbdd978e3row5_col0 {\n",
       "            background-color:  #a19eca;\n",
       "            color:  #000000;\n",
       "        }    #T_ca84f4e4_4a95_11eb_8ead_a0afbdd978e3row6_col0 {\n",
       "            background-color:  #fcfbfd;\n",
       "            color:  #000000;\n",
       "        }    #T_ca84f4e4_4a95_11eb_8ead_a0afbdd978e3row7_col0 {\n",
       "            background-color:  #dcdcec;\n",
       "            color:  #000000;\n",
       "        }    #T_ca84f4e4_4a95_11eb_8ead_a0afbdd978e3row8_col0 {\n",
       "            background-color:  #d9d9ea;\n",
       "            color:  #000000;\n",
       "        }    #T_ca84f4e4_4a95_11eb_8ead_a0afbdd978e3row9_col0 {\n",
       "            background-color:  #4c1888;\n",
       "            color:  #f1f1f1;\n",
       "        }</style><table id=\"T_ca84f4e4_4a95_11eb_8ead_a0afbdd978e3\" ><thead>    <tr>        <th class=\"blank\" ></th>        <th class=\"blank level0\" ></th>        <th class=\"col_heading level0 col0\" >income</th>    </tr>    <tr>        <th class=\"index_name level0\" >race</th>        <th class=\"index_name level1\" >sex</th>        <th class=\"blank\" ></th>    </tr></thead><tbody>\n",
       "                <tr>\n",
       "                        <th id=\"T_ca84f4e4_4a95_11eb_8ead_a0afbdd978e3level0_row0\" class=\"row_heading level0 row0\" rowspan=2>Amer-Indian-Eskimo</th>\n",
       "                        <th id=\"T_ca84f4e4_4a95_11eb_8ead_a0afbdd978e3level1_row0\" class=\"row_heading level1 row0\" >Female</th>\n",
       "                        <td id=\"T_ca84f4e4_4a95_11eb_8ead_a0afbdd978e3row0_col0\" class=\"data row0 col0\" >0.102273</td>\n",
       "            </tr>\n",
       "            <tr>\n",
       "                                <th id=\"T_ca84f4e4_4a95_11eb_8ead_a0afbdd978e3level1_row1\" class=\"row_heading level1 row1\" >Male</th>\n",
       "                        <td id=\"T_ca84f4e4_4a95_11eb_8ead_a0afbdd978e3row1_col0\" class=\"data row1 col0\" >0.120482</td>\n",
       "            </tr>\n",
       "            <tr>\n",
       "                        <th id=\"T_ca84f4e4_4a95_11eb_8ead_a0afbdd978e3level0_row2\" class=\"row_heading level0 row2\" rowspan=2>Asian-Pac-Islander</th>\n",
       "                        <th id=\"T_ca84f4e4_4a95_11eb_8ead_a0afbdd978e3level1_row2\" class=\"row_heading level1 row2\" >Female</th>\n",
       "                        <td id=\"T_ca84f4e4_4a95_11eb_8ead_a0afbdd978e3row2_col0\" class=\"data row2 col0\" >0.125926</td>\n",
       "            </tr>\n",
       "            <tr>\n",
       "                                <th id=\"T_ca84f4e4_4a95_11eb_8ead_a0afbdd978e3level1_row3\" class=\"row_heading level1 row3\" >Male</th>\n",
       "                        <td id=\"T_ca84f4e4_4a95_11eb_8ead_a0afbdd978e3row3_col0\" class=\"data row3 col0\" >0.341509</td>\n",
       "            </tr>\n",
       "            <tr>\n",
       "                        <th id=\"T_ca84f4e4_4a95_11eb_8ead_a0afbdd978e3level0_row4\" class=\"row_heading level0 row4\" rowspan=2>Black</th>\n",
       "                        <th id=\"T_ca84f4e4_4a95_11eb_8ead_a0afbdd978e3level1_row4\" class=\"row_heading level1 row4\" >Female</th>\n",
       "                        <td id=\"T_ca84f4e4_4a95_11eb_8ead_a0afbdd978e3row4_col0\" class=\"data row4 col0\" >0.0516817</td>\n",
       "            </tr>\n",
       "            <tr>\n",
       "                                <th id=\"T_ca84f4e4_4a95_11eb_8ead_a0afbdd978e3level1_row5\" class=\"row_heading level1 row5\" >Male</th>\n",
       "                        <td id=\"T_ca84f4e4_4a95_11eb_8ead_a0afbdd978e3row5_col0\" class=\"data row5 col0\" >0.190135</td>\n",
       "            </tr>\n",
       "            <tr>\n",
       "                        <th id=\"T_ca84f4e4_4a95_11eb_8ead_a0afbdd978e3level0_row6\" class=\"row_heading level0 row6\" rowspan=2>Other</th>\n",
       "                        <th id=\"T_ca84f4e4_4a95_11eb_8ead_a0afbdd978e3level1_row6\" class=\"row_heading level1 row6\" >Female</th>\n",
       "                        <td id=\"T_ca84f4e4_4a95_11eb_8ead_a0afbdd978e3row6_col0\" class=\"data row6 col0\" >0.0470588</td>\n",
       "            </tr>\n",
       "            <tr>\n",
       "                                <th id=\"T_ca84f4e4_4a95_11eb_8ead_a0afbdd978e3level1_row7\" class=\"row_heading level1 row7\" >Male</th>\n",
       "                        <td id=\"T_ca84f4e4_4a95_11eb_8ead_a0afbdd978e3row7_col0\" class=\"data row7 col0\" >0.117647</td>\n",
       "            </tr>\n",
       "            <tr>\n",
       "                        <th id=\"T_ca84f4e4_4a95_11eb_8ead_a0afbdd978e3level0_row8\" class=\"row_heading level0 row8\" rowspan=2>White</th>\n",
       "                        <th id=\"T_ca84f4e4_4a95_11eb_8ead_a0afbdd978e3level1_row8\" class=\"row_heading level1 row8\" >Female</th>\n",
       "                        <td id=\"T_ca84f4e4_4a95_11eb_8ead_a0afbdd978e3row8_col0\" class=\"data row8 col0\" >0.122085</td>\n",
       "            </tr>\n",
       "            <tr>\n",
       "                                <th id=\"T_ca84f4e4_4a95_11eb_8ead_a0afbdd978e3level1_row9\" class=\"row_heading level1 row9\" >Male</th>\n",
       "                        <td id=\"T_ca84f4e4_4a95_11eb_8ead_a0afbdd978e3row9_col0\" class=\"data row9 col0\" >0.317846</td>\n",
       "            </tr>\n",
       "    </tbody></table>"
      ],
      "text/plain": [
       "<pandas.io.formats.style.Styler at 0x28a4eee14a8>"
      ]
     },
     "execution_count": 18,
     "metadata": {},
     "output_type": "execute_result"
    }
   ],
   "source": [
    "train.groupby(['race','sex'])[['income']].mean().style.background_gradient(cmap='Purples')"
   ]
  },
  {
   "cell_type": "markdown",
   "metadata": {},
   "source": [
    "또는 배경색을 값에 따라 다르게 지정 할 수 도 있음\n",
    "\n",
    "남성이 전체적으로 여성보다 수익비율이 높은 것을 알 수 있다. "
   ]
  },
  {
   "cell_type": "code",
   "execution_count": 19,
   "metadata": {},
   "outputs": [
    {
     "data": {
      "image/png": "[encoded data removed]",
      "text/plain": [
       "<Figure size 864x360 with 1 Axes>"
      ]
     },
     "metadata": {
      "needs_background": "light"
     },
     "output_type": "display_data"
    }
   ],
   "source": [
    "fig,ax= plt.subplots(1,1,figsize=(12,5))#plot의 크기 지정 \n",
    "sns.boxplot(data=train, x='race',y='age',hue='sex')\n",
    "plt.show()"
   ]
  },
  {
   "cell_type": "code",
   "execution_count": 20,
   "metadata": {},
   "outputs": [
    {
     "data": {
      "image/png": "[encoded data removed]",
      "text/plain": [
       "<Figure size 432x288 with 1 Axes>"
      ]
     },
     "metadata": {
      "needs_background": "light"
     },
     "output_type": "display_data"
    }
   ],
   "source": [
    "sns.violinplot(data=train, x='race',y='age',hue='sex')\n",
    "plt.show()"
   ]
  },
  {
   "cell_type": "code",
   "execution_count": 21,
   "metadata": {},
   "outputs": [
    {
     "data": {
      "text/html": [
       "<style  type=\"text/css\" >\n",
       "    #T_cb0d2cc2_4a95_11eb_bee5_a0afbdd978e3row0_col0 {\n",
       "            background-color:  #023858;\n",
       "            color:  #f1f1f1;\n",
       "        }    #T_cb0d2cc2_4a95_11eb_bee5_a0afbdd978e3row0_col1 {\n",
       "            background-color:  #f3edf5;\n",
       "            color:  #000000;\n",
       "        }    #T_cb0d2cc2_4a95_11eb_bee5_a0afbdd978e3row0_col2 {\n",
       "            background-color:  #f5eef6;\n",
       "            color:  #000000;\n",
       "        }    #T_cb0d2cc2_4a95_11eb_bee5_a0afbdd978e3row0_col3 {\n",
       "            background-color:  #f8f1f8;\n",
       "            color:  #000000;\n",
       "        }    #T_cb0d2cc2_4a95_11eb_bee5_a0afbdd978e3row0_col4 {\n",
       "            background-color:  #faf2f8;\n",
       "            color:  #000000;\n",
       "        }    #T_cb0d2cc2_4a95_11eb_bee5_a0afbdd978e3row0_col5 {\n",
       "            background-color:  #fbf3f9;\n",
       "            color:  #000000;\n",
       "        }    #T_cb0d2cc2_4a95_11eb_bee5_a0afbdd978e3row0_col6 {\n",
       "            background-color:  #fbf4f9;\n",
       "            color:  #000000;\n",
       "        }    #T_cb0d2cc2_4a95_11eb_bee5_a0afbdd978e3row0_col7 {\n",
       "            background-color:  #fdf5fa;\n",
       "            color:  #000000;\n",
       "        }    #T_cb0d2cc2_4a95_11eb_bee5_a0afbdd978e3row1_col0 {\n",
       "            background-color:  #fef6fa;\n",
       "            color:  #000000;\n",
       "        }    #T_cb0d2cc2_4a95_11eb_bee5_a0afbdd978e3row1_col1 {\n",
       "            background-color:  #023858;\n",
       "            color:  #f1f1f1;\n",
       "        }    #T_cb0d2cc2_4a95_11eb_bee5_a0afbdd978e3row1_col2 {\n",
       "            background-color:  #fff7fb;\n",
       "            color:  #000000;\n",
       "        }    #T_cb0d2cc2_4a95_11eb_bee5_a0afbdd978e3row1_col3 {\n",
       "            background-color:  #f2ecf5;\n",
       "            color:  #000000;\n",
       "        }    #T_cb0d2cc2_4a95_11eb_bee5_a0afbdd978e3row1_col4 {\n",
       "            background-color:  #efe9f3;\n",
       "            color:  #000000;\n",
       "        }    #T_cb0d2cc2_4a95_11eb_bee5_a0afbdd978e3row1_col5 {\n",
       "            background-color:  #f2ecf5;\n",
       "            color:  #000000;\n",
       "        }    #T_cb0d2cc2_4a95_11eb_bee5_a0afbdd978e3row1_col6 {\n",
       "            background-color:  #f2ecf5;\n",
       "            color:  #000000;\n",
       "        }    #T_cb0d2cc2_4a95_11eb_bee5_a0afbdd978e3row1_col7 {\n",
       "            background-color:  #d3d4e7;\n",
       "            color:  #000000;\n",
       "        }    #T_cb0d2cc2_4a95_11eb_bee5_a0afbdd978e3row2_col0 {\n",
       "            background-color:  #fff7fb;\n",
       "            color:  #000000;\n",
       "        }    #T_cb0d2cc2_4a95_11eb_bee5_a0afbdd978e3row2_col1 {\n",
       "            background-color:  #fff7fb;\n",
       "            color:  #000000;\n",
       "        }    #T_cb0d2cc2_4a95_11eb_bee5_a0afbdd978e3row2_col2 {\n",
       "            background-color:  #023858;\n",
       "            color:  #f1f1f1;\n",
       "        }    #T_cb0d2cc2_4a95_11eb_bee5_a0afbdd978e3row2_col3 {\n",
       "            background-color:  #fff7fb;\n",
       "            color:  #000000;\n",
       "        }    #T_cb0d2cc2_4a95_11eb_bee5_a0afbdd978e3row2_col4 {\n",
       "            background-color:  #faf3f9;\n",
       "            color:  #000000;\n",
       "        }    #T_cb0d2cc2_4a95_11eb_bee5_a0afbdd978e3row2_col5 {\n",
       "            background-color:  #fcf4fa;\n",
       "            color:  #000000;\n",
       "        }    #T_cb0d2cc2_4a95_11eb_bee5_a0afbdd978e3row2_col6 {\n",
       "            background-color:  #fff7fb;\n",
       "            color:  #000000;\n",
       "        }    #T_cb0d2cc2_4a95_11eb_bee5_a0afbdd978e3row2_col7 {\n",
       "            background-color:  #fff7fb;\n",
       "            color:  #000000;\n",
       "        }    #T_cb0d2cc2_4a95_11eb_bee5_a0afbdd978e3row3_col0 {\n",
       "            background-color:  #fef6fb;\n",
       "            color:  #000000;\n",
       "        }    #T_cb0d2cc2_4a95_11eb_bee5_a0afbdd978e3row3_col1 {\n",
       "            background-color:  #efe9f3;\n",
       "            color:  #000000;\n",
       "        }    #T_cb0d2cc2_4a95_11eb_bee5_a0afbdd978e3row3_col2 {\n",
       "            background-color:  #fbf3f9;\n",
       "            color:  #000000;\n",
       "        }    #T_cb0d2cc2_4a95_11eb_bee5_a0afbdd978e3row3_col3 {\n",
       "            background-color:  #023858;\n",
       "            color:  #f1f1f1;\n",
       "        }    #T_cb0d2cc2_4a95_11eb_bee5_a0afbdd978e3row3_col4 {\n",
       "            background-color:  #e7e3f0;\n",
       "            color:  #000000;\n",
       "        }    #T_cb0d2cc2_4a95_11eb_bee5_a0afbdd978e3row3_col5 {\n",
       "            background-color:  #f0eaf4;\n",
       "            color:  #000000;\n",
       "        }    #T_cb0d2cc2_4a95_11eb_bee5_a0afbdd978e3row3_col6 {\n",
       "            background-color:  #e4e1ef;\n",
       "            color:  #000000;\n",
       "        }    #T_cb0d2cc2_4a95_11eb_bee5_a0afbdd978e3row3_col7 {\n",
       "            background-color:  #b3c3de;\n",
       "            color:  #000000;\n",
       "        }    #T_cb0d2cc2_4a95_11eb_bee5_a0afbdd978e3row4_col0 {\n",
       "            background-color:  #fef6fa;\n",
       "            color:  #000000;\n",
       "        }    #T_cb0d2cc2_4a95_11eb_bee5_a0afbdd978e3row4_col1 {\n",
       "            background-color:  #e8e4f0;\n",
       "            color:  #000000;\n",
       "        }    #T_cb0d2cc2_4a95_11eb_bee5_a0afbdd978e3row4_col2 {\n",
       "            background-color:  #f4eef6;\n",
       "            color:  #000000;\n",
       "        }    #T_cb0d2cc2_4a95_11eb_bee5_a0afbdd978e3row4_col3 {\n",
       "            background-color:  #e5e1ef;\n",
       "            color:  #000000;\n",
       "        }    #T_cb0d2cc2_4a95_11eb_bee5_a0afbdd978e3row4_col4 {\n",
       "            background-color:  #023858;\n",
       "            color:  #f1f1f1;\n",
       "        }    #T_cb0d2cc2_4a95_11eb_bee5_a0afbdd978e3row4_col5 {\n",
       "            background-color:  #fff7fb;\n",
       "            color:  #000000;\n",
       "        }    #T_cb0d2cc2_4a95_11eb_bee5_a0afbdd978e3row4_col6 {\n",
       "            background-color:  #f0eaf4;\n",
       "            color:  #000000;\n",
       "        }    #T_cb0d2cc2_4a95_11eb_bee5_a0afbdd978e3row4_col7 {\n",
       "            background-color:  #d4d4e8;\n",
       "            color:  #000000;\n",
       "        }    #T_cb0d2cc2_4a95_11eb_bee5_a0afbdd978e3row5_col0 {\n",
       "            background-color:  #fff7fb;\n",
       "            color:  #000000;\n",
       "        }    #T_cb0d2cc2_4a95_11eb_bee5_a0afbdd978e3row5_col1 {\n",
       "            background-color:  #ede7f2;\n",
       "            color:  #000000;\n",
       "        }    #T_cb0d2cc2_4a95_11eb_bee5_a0afbdd978e3row5_col2 {\n",
       "            background-color:  #f5eff6;\n",
       "            color:  #000000;\n",
       "        }    #T_cb0d2cc2_4a95_11eb_bee5_a0afbdd978e3row5_col3 {\n",
       "            background-color:  #eee8f3;\n",
       "            color:  #000000;\n",
       "        }    #T_cb0d2cc2_4a95_11eb_bee5_a0afbdd978e3row5_col4 {\n",
       "            background-color:  #fff7fb;\n",
       "            color:  #000000;\n",
       "        }    #T_cb0d2cc2_4a95_11eb_bee5_a0afbdd978e3row5_col5 {\n",
       "            background-color:  #023858;\n",
       "            color:  #f1f1f1;\n",
       "        }    #T_cb0d2cc2_4a95_11eb_bee5_a0afbdd978e3row5_col6 {\n",
       "            background-color:  #f4eef6;\n",
       "            color:  #000000;\n",
       "        }    #T_cb0d2cc2_4a95_11eb_bee5_a0afbdd978e3row5_col7 {\n",
       "            background-color:  #e5e1ef;\n",
       "            color:  #000000;\n",
       "        }    #T_cb0d2cc2_4a95_11eb_bee5_a0afbdd978e3row6_col0 {\n",
       "            background-color:  #fef6fa;\n",
       "            color:  #000000;\n",
       "        }    #T_cb0d2cc2_4a95_11eb_bee5_a0afbdd978e3row6_col1 {\n",
       "            background-color:  #ebe6f2;\n",
       "            color:  #000000;\n",
       "        }    #T_cb0d2cc2_4a95_11eb_bee5_a0afbdd978e3row6_col2 {\n",
       "            background-color:  #f7f0f7;\n",
       "            color:  #000000;\n",
       "        }    #T_cb0d2cc2_4a95_11eb_bee5_a0afbdd978e3row6_col3 {\n",
       "            background-color:  #dfddec;\n",
       "            color:  #000000;\n",
       "        }    #T_cb0d2cc2_4a95_11eb_bee5_a0afbdd978e3row6_col4 {\n",
       "            background-color:  #efe9f3;\n",
       "            color:  #000000;\n",
       "        }    #T_cb0d2cc2_4a95_11eb_bee5_a0afbdd978e3row6_col5 {\n",
       "            background-color:  #f2ecf5;\n",
       "            color:  #000000;\n",
       "        }    #T_cb0d2cc2_4a95_11eb_bee5_a0afbdd978e3row6_col6 {\n",
       "            background-color:  #023858;\n",
       "            color:  #f1f1f1;\n",
       "        }    #T_cb0d2cc2_4a95_11eb_bee5_a0afbdd978e3row6_col7 {\n",
       "            background-color:  #d2d3e7;\n",
       "            color:  #000000;\n",
       "        }    #T_cb0d2cc2_4a95_11eb_bee5_a0afbdd978e3row7_col0 {\n",
       "            background-color:  #fef6fb;\n",
       "            color:  #000000;\n",
       "        }    #T_cb0d2cc2_4a95_11eb_bee5_a0afbdd978e3row7_col1 {\n",
       "            background-color:  #c5cce3;\n",
       "            color:  #000000;\n",
       "        }    #T_cb0d2cc2_4a95_11eb_bee5_a0afbdd978e3row7_col2 {\n",
       "            background-color:  #f5eff6;\n",
       "            color:  #000000;\n",
       "        }    #T_cb0d2cc2_4a95_11eb_bee5_a0afbdd978e3row7_col3 {\n",
       "            background-color:  #a9bfdc;\n",
       "            color:  #000000;\n",
       "        }    #T_cb0d2cc2_4a95_11eb_bee5_a0afbdd978e3row7_col4 {\n",
       "            background-color:  #d1d2e6;\n",
       "            color:  #000000;\n",
       "        }    #T_cb0d2cc2_4a95_11eb_bee5_a0afbdd978e3row7_col5 {\n",
       "            background-color:  #e0deed;\n",
       "            color:  #000000;\n",
       "        }    #T_cb0d2cc2_4a95_11eb_bee5_a0afbdd978e3row7_col6 {\n",
       "            background-color:  #d1d2e6;\n",
       "            color:  #000000;\n",
       "        }    #T_cb0d2cc2_4a95_11eb_bee5_a0afbdd978e3row7_col7 {\n",
       "            background-color:  #023858;\n",
       "            color:  #f1f1f1;\n",
       "        }</style><table id=\"T_cb0d2cc2_4a95_11eb_bee5_a0afbdd978e3\" ><thead>    <tr>        <th class=\"blank level0\" ></th>        <th class=\"col_heading level0 col0\" >id</th>        <th class=\"col_heading level0 col1\" >age</th>        <th class=\"col_heading level0 col2\" >fnlwgt</th>        <th class=\"col_heading level0 col3\" >education_num</th>        <th class=\"col_heading level0 col4\" >capital_gain</th>        <th class=\"col_heading level0 col5\" >capital_loss</th>        <th class=\"col_heading level0 col6\" >hours_per_week</th>        <th class=\"col_heading level0 col7\" >income</th>    </tr></thead><tbody>\n",
       "                <tr>\n",
       "                        <th id=\"T_cb0d2cc2_4a95_11eb_bee5_a0afbdd978e3level0_row0\" class=\"row_heading level0 row0\" >id</th>\n",
       "                        <td id=\"T_cb0d2cc2_4a95_11eb_bee5_a0afbdd978e3row0_col0\" class=\"data row0 col0\" >1</td>\n",
       "                        <td id=\"T_cb0d2cc2_4a95_11eb_bee5_a0afbdd978e3row0_col1\" class=\"data row0 col1\" >0.00786553</td>\n",
       "                        <td id=\"T_cb0d2cc2_4a95_11eb_bee5_a0afbdd978e3row0_col2\" class=\"data row0 col2\" >-0.00119113</td>\n",
       "                        <td id=\"T_cb0d2cc2_4a95_11eb_bee5_a0afbdd978e3row0_col3\" class=\"data row0 col3\" >0.00230886</td>\n",
       "                        <td id=\"T_cb0d2cc2_4a95_11eb_bee5_a0afbdd978e3row0_col4\" class=\"data row0 col4\" >0.00722767</td>\n",
       "                        <td id=\"T_cb0d2cc2_4a95_11eb_bee5_a0afbdd978e3row0_col5\" class=\"data row0 col5\" >-0.0025529</td>\n",
       "                        <td id=\"T_cb0d2cc2_4a95_11eb_bee5_a0afbdd978e3row0_col6\" class=\"data row0 col6\" >0.00574855</td>\n",
       "                        <td id=\"T_cb0d2cc2_4a95_11eb_bee5_a0afbdd978e3row0_col7\" class=\"data row0 col7\" >0.00435041</td>\n",
       "            </tr>\n",
       "            <tr>\n",
       "                        <th id=\"T_cb0d2cc2_4a95_11eb_bee5_a0afbdd978e3level0_row1\" class=\"row_heading level0 row1\" >age</th>\n",
       "                        <td id=\"T_cb0d2cc2_4a95_11eb_bee5_a0afbdd978e3row1_col0\" class=\"data row1 col0\" >0.00786553</td>\n",
       "                        <td id=\"T_cb0d2cc2_4a95_11eb_bee5_a0afbdd978e3row1_col1\" class=\"data row1 col1\" >1</td>\n",
       "                        <td id=\"T_cb0d2cc2_4a95_11eb_bee5_a0afbdd978e3row1_col2\" class=\"data row1 col2\" >-0.0766177</td>\n",
       "                        <td id=\"T_cb0d2cc2_4a95_11eb_bee5_a0afbdd978e3row1_col3\" class=\"data row1 col3\" >0.0401072</td>\n",
       "                        <td id=\"T_cb0d2cc2_4a95_11eb_bee5_a0afbdd978e3row1_col4\" class=\"data row1 col4\" >0.0777683</td>\n",
       "                        <td id=\"T_cb0d2cc2_4a95_11eb_bee5_a0afbdd978e3row1_col5\" class=\"data row1 col5\" >0.0578755</td>\n",
       "                        <td id=\"T_cb0d2cc2_4a95_11eb_bee5_a0afbdd978e3row1_col6\" class=\"data row1 col6\" >0.0660383</td>\n",
       "                        <td id=\"T_cb0d2cc2_4a95_11eb_bee5_a0afbdd978e3row1_col7\" class=\"data row1 col7\" >0.229292</td>\n",
       "            </tr>\n",
       "            <tr>\n",
       "                        <th id=\"T_cb0d2cc2_4a95_11eb_bee5_a0afbdd978e3level0_row2\" class=\"row_heading level0 row2\" >fnlwgt</th>\n",
       "                        <td id=\"T_cb0d2cc2_4a95_11eb_bee5_a0afbdd978e3row2_col0\" class=\"data row2 col0\" >-0.00119113</td>\n",
       "                        <td id=\"T_cb0d2cc2_4a95_11eb_bee5_a0afbdd978e3row2_col1\" class=\"data row2 col1\" >-0.0766177</td>\n",
       "                        <td id=\"T_cb0d2cc2_4a95_11eb_bee5_a0afbdd978e3row2_col2\" class=\"data row2 col2\" >1</td>\n",
       "                        <td id=\"T_cb0d2cc2_4a95_11eb_bee5_a0afbdd978e3row2_col3\" class=\"data row2 col3\" >-0.0463766</td>\n",
       "                        <td id=\"T_cb0d2cc2_4a95_11eb_bee5_a0afbdd978e3row2_col4\" class=\"data row2 col4\" >0.00095304</td>\n",
       "                        <td id=\"T_cb0d2cc2_4a95_11eb_bee5_a0afbdd978e3row2_col5\" class=\"data row2 col5\" >-0.00868895</td>\n",
       "                        <td id=\"T_cb0d2cc2_4a95_11eb_bee5_a0afbdd978e3row2_col6\" class=\"data row2 col6\" >-0.0200643</td>\n",
       "                        <td id=\"T_cb0d2cc2_4a95_11eb_bee5_a0afbdd978e3row2_col7\" class=\"data row2 col7\" >-0.00749959</td>\n",
       "            </tr>\n",
       "            <tr>\n",
       "                        <th id=\"T_cb0d2cc2_4a95_11eb_bee5_a0afbdd978e3level0_row3\" class=\"row_heading level0 row3\" >education_num</th>\n",
       "                        <td id=\"T_cb0d2cc2_4a95_11eb_bee5_a0afbdd978e3row3_col0\" class=\"data row3 col0\" >0.00230886</td>\n",
       "                        <td id=\"T_cb0d2cc2_4a95_11eb_bee5_a0afbdd978e3row3_col1\" class=\"data row3 col1\" >0.0401072</td>\n",
       "                        <td id=\"T_cb0d2cc2_4a95_11eb_bee5_a0afbdd978e3row3_col2\" class=\"data row3 col2\" >-0.0463766</td>\n",
       "                        <td id=\"T_cb0d2cc2_4a95_11eb_bee5_a0afbdd978e3row3_col3\" class=\"data row3 col3\" >1</td>\n",
       "                        <td id=\"T_cb0d2cc2_4a95_11eb_bee5_a0afbdd978e3row3_col4\" class=\"data row3 col4\" >0.119382</td>\n",
       "                        <td id=\"T_cb0d2cc2_4a95_11eb_bee5_a0afbdd978e3row3_col5\" class=\"data row3 col5\" >0.0748135</td>\n",
       "                        <td id=\"T_cb0d2cc2_4a95_11eb_bee5_a0afbdd978e3row3_col6\" class=\"data row3 col6\" >0.146063</td>\n",
       "                        <td id=\"T_cb0d2cc2_4a95_11eb_bee5_a0afbdd978e3row3_col7\" class=\"data row3 col7\" >0.334582</td>\n",
       "            </tr>\n",
       "            <tr>\n",
       "                        <th id=\"T_cb0d2cc2_4a95_11eb_bee5_a0afbdd978e3level0_row4\" class=\"row_heading level0 row4\" >capital_gain</th>\n",
       "                        <td id=\"T_cb0d2cc2_4a95_11eb_bee5_a0afbdd978e3row4_col0\" class=\"data row4 col0\" >0.00722767</td>\n",
       "                        <td id=\"T_cb0d2cc2_4a95_11eb_bee5_a0afbdd978e3row4_col1\" class=\"data row4 col1\" >0.0777683</td>\n",
       "                        <td id=\"T_cb0d2cc2_4a95_11eb_bee5_a0afbdd978e3row4_col2\" class=\"data row4 col2\" >0.00095304</td>\n",
       "                        <td id=\"T_cb0d2cc2_4a95_11eb_bee5_a0afbdd978e3row4_col3\" class=\"data row4 col3\" >0.119382</td>\n",
       "                        <td id=\"T_cb0d2cc2_4a95_11eb_bee5_a0afbdd978e3row4_col4\" class=\"data row4 col4\" >1</td>\n",
       "                        <td id=\"T_cb0d2cc2_4a95_11eb_bee5_a0afbdd978e3row4_col5\" class=\"data row4 col5\" >-0.0320297</td>\n",
       "                        <td id=\"T_cb0d2cc2_4a95_11eb_bee5_a0afbdd978e3row4_col6\" class=\"data row4 col6\" >0.080543</td>\n",
       "                        <td id=\"T_cb0d2cc2_4a95_11eb_bee5_a0afbdd978e3row4_col7\" class=\"data row4 col7\" >0.225296</td>\n",
       "            </tr>\n",
       "            <tr>\n",
       "                        <th id=\"T_cb0d2cc2_4a95_11eb_bee5_a0afbdd978e3level0_row5\" class=\"row_heading level0 row5\" >capital_loss</th>\n",
       "                        <td id=\"T_cb0d2cc2_4a95_11eb_bee5_a0afbdd978e3row5_col0\" class=\"data row5 col0\" >-0.0025529</td>\n",
       "                        <td id=\"T_cb0d2cc2_4a95_11eb_bee5_a0afbdd978e3row5_col1\" class=\"data row5 col1\" >0.0578755</td>\n",
       "                        <td id=\"T_cb0d2cc2_4a95_11eb_bee5_a0afbdd978e3row5_col2\" class=\"data row5 col2\" >-0.00868895</td>\n",
       "                        <td id=\"T_cb0d2cc2_4a95_11eb_bee5_a0afbdd978e3row5_col3\" class=\"data row5 col3\" >0.0748135</td>\n",
       "                        <td id=\"T_cb0d2cc2_4a95_11eb_bee5_a0afbdd978e3row5_col4\" class=\"data row5 col4\" >-0.0320297</td>\n",
       "                        <td id=\"T_cb0d2cc2_4a95_11eb_bee5_a0afbdd978e3row5_col5\" class=\"data row5 col5\" >1</td>\n",
       "                        <td id=\"T_cb0d2cc2_4a95_11eb_bee5_a0afbdd978e3row5_col6\" class=\"data row5 col6\" >0.0549567</td>\n",
       "                        <td id=\"T_cb0d2cc2_4a95_11eb_bee5_a0afbdd978e3row5_col7\" class=\"data row5 col7\" >0.152537</td>\n",
       "            </tr>\n",
       "            <tr>\n",
       "                        <th id=\"T_cb0d2cc2_4a95_11eb_bee5_a0afbdd978e3level0_row6\" class=\"row_heading level0 row6\" >hours_per_week</th>\n",
       "                        <td id=\"T_cb0d2cc2_4a95_11eb_bee5_a0afbdd978e3row6_col0\" class=\"data row6 col0\" >0.00574855</td>\n",
       "                        <td id=\"T_cb0d2cc2_4a95_11eb_bee5_a0afbdd978e3row6_col1\" class=\"data row6 col1\" >0.0660383</td>\n",
       "                        <td id=\"T_cb0d2cc2_4a95_11eb_bee5_a0afbdd978e3row6_col2\" class=\"data row6 col2\" >-0.0200643</td>\n",
       "                        <td id=\"T_cb0d2cc2_4a95_11eb_bee5_a0afbdd978e3row6_col3\" class=\"data row6 col3\" >0.146063</td>\n",
       "                        <td id=\"T_cb0d2cc2_4a95_11eb_bee5_a0afbdd978e3row6_col4\" class=\"data row6 col4\" >0.080543</td>\n",
       "                        <td id=\"T_cb0d2cc2_4a95_11eb_bee5_a0afbdd978e3row6_col5\" class=\"data row6 col5\" >0.0549567</td>\n",
       "                        <td id=\"T_cb0d2cc2_4a95_11eb_bee5_a0afbdd978e3row6_col6\" class=\"data row6 col6\" >1</td>\n",
       "                        <td id=\"T_cb0d2cc2_4a95_11eb_bee5_a0afbdd978e3row6_col7\" class=\"data row6 col7\" >0.233726</td>\n",
       "            </tr>\n",
       "            <tr>\n",
       "                        <th id=\"T_cb0d2cc2_4a95_11eb_bee5_a0afbdd978e3level0_row7\" class=\"row_heading level0 row7\" >income</th>\n",
       "                        <td id=\"T_cb0d2cc2_4a95_11eb_bee5_a0afbdd978e3row7_col0\" class=\"data row7 col0\" >0.00435041</td>\n",
       "                        <td id=\"T_cb0d2cc2_4a95_11eb_bee5_a0afbdd978e3row7_col1\" class=\"data row7 col1\" >0.229292</td>\n",
       "                        <td id=\"T_cb0d2cc2_4a95_11eb_bee5_a0afbdd978e3row7_col2\" class=\"data row7 col2\" >-0.00749959</td>\n",
       "                        <td id=\"T_cb0d2cc2_4a95_11eb_bee5_a0afbdd978e3row7_col3\" class=\"data row7 col3\" >0.334582</td>\n",
       "                        <td id=\"T_cb0d2cc2_4a95_11eb_bee5_a0afbdd978e3row7_col4\" class=\"data row7 col4\" >0.225296</td>\n",
       "                        <td id=\"T_cb0d2cc2_4a95_11eb_bee5_a0afbdd978e3row7_col5\" class=\"data row7 col5\" >0.152537</td>\n",
       "                        <td id=\"T_cb0d2cc2_4a95_11eb_bee5_a0afbdd978e3row7_col6\" class=\"data row7 col6\" >0.233726</td>\n",
       "                        <td id=\"T_cb0d2cc2_4a95_11eb_bee5_a0afbdd978e3row7_col7\" class=\"data row7 col7\" >1</td>\n",
       "            </tr>\n",
       "    </tbody></table>"
      ],
      "text/plain": [
       "<pandas.io.formats.style.Styler at 0x28a4f050d68>"
      ]
     },
     "execution_count": 21,
     "metadata": {},
     "output_type": "execute_result"
    }
   ],
   "source": [
    "train.corr().style.background_gradient() #상관계수확인\n"
   ]
  },
  {
   "cell_type": "code",
   "execution_count": 22,
   "metadata": {},
   "outputs": [
    {
     "data": {
      "text/plain": [
       "<matplotlib.axes._subplots.AxesSubplot at 0x28a50159e80>"
      ]
     },
     "execution_count": 22,
     "metadata": {},
     "output_type": "execute_result"
    },
    {
     "data": {
      "image/png": "[encoded data removed]",
      "text/plain": [
       "<Figure size 432x288 with 2 Axes>"
      ]
     },
     "metadata": {
      "needs_background": "light"
     },
     "output_type": "display_data"
    }
   ],
   "source": [
    "corr=train.corr()\n",
    "sns.heatmap(corr,square=True,linecolor=\"white\",linewidth=0.1,\n",
    "            cmap='coolwarm',vmax=1.0,vmin=-1.0)"
   ]
  },
  {
   "cell_type": "markdown",
   "metadata": {},
   "source": [
    "## 모델에 적합한 INPUT 형태 만들기 \n",
    "\n",
    "features(X)와 target(y)으로 나누어 모델에 넣어주기\n",
    "\n",
    "예측데이터인 income feature는 따로 빼두어야 함 "
   ]
  },
  {
   "cell_type": "code",
   "execution_count": 23,
   "metadata": {},
   "outputs": [],
   "source": [
    "target = train['income']"
   ]
  },
  {
   "cell_type": "code",
   "execution_count": 24,
   "metadata": {},
   "outputs": [
    {
     "data": {
      "text/plain": [
       "0    1\n",
       "1    0\n",
       "2    0\n",
       "3    0\n",
       "4    0\n",
       "5    0\n",
       "6    1\n",
       "7    0\n",
       "8    1\n",
       "9    1\n",
       "Name: income, dtype: int32"
      ]
     },
     "execution_count": 24,
     "metadata": {},
     "output_type": "execute_result"
    }
   ],
   "source": [
    "target.head(10)"
   ]
  },
  {
   "cell_type": "code",
   "execution_count": 25,
   "metadata": {},
   "outputs": [],
   "source": [
    "train.drop(['income'],axis=1,inplace=True)"
   ]
  },
  {
   "cell_type": "code",
   "execution_count": 26,
   "metadata": {
    "scrolled": true
   },
   "outputs": [
    {
     "data": {
      "text/html": [
       "<div>\n",
       "<style scoped>\n",
       "    .dataframe tbody tr th:only-of-type {\n",
       "        vertical-align: middle;\n",
       "    }\n",
       "\n",
       "    .dataframe tbody tr th {\n",
       "        vertical-align: top;\n",
       "    }\n",
       "\n",
       "    .dataframe thead th {\n",
       "        text-align: right;\n",
       "    }\n",
       "</style>\n",
       "<table border=\"1\" class=\"dataframe\">\n",
       "  <thead>\n",
       "    <tr style=\"text-align: right;\">\n",
       "      <th></th>\n",
       "      <th>id</th>\n",
       "      <th>age</th>\n",
       "      <th>workclass</th>\n",
       "      <th>fnlwgt</th>\n",
       "      <th>education</th>\n",
       "      <th>education_num</th>\n",
       "      <th>marital_status</th>\n",
       "      <th>occupation</th>\n",
       "      <th>relationship</th>\n",
       "      <th>race</th>\n",
       "      <th>sex</th>\n",
       "      <th>capital_gain</th>\n",
       "      <th>capital_loss</th>\n",
       "      <th>hours_per_week</th>\n",
       "      <th>native_country</th>\n",
       "    </tr>\n",
       "  </thead>\n",
       "  <tbody>\n",
       "    <tr>\n",
       "      <th>0</th>\n",
       "      <td>0</td>\n",
       "      <td>40</td>\n",
       "      <td>Private</td>\n",
       "      <td>168538</td>\n",
       "      <td>HS-grad</td>\n",
       "      <td>9</td>\n",
       "      <td>Married-civ-spouse</td>\n",
       "      <td>Sales</td>\n",
       "      <td>Husband</td>\n",
       "      <td>White</td>\n",
       "      <td>Male</td>\n",
       "      <td>0</td>\n",
       "      <td>0</td>\n",
       "      <td>60</td>\n",
       "      <td>United-States</td>\n",
       "    </tr>\n",
       "    <tr>\n",
       "      <th>1</th>\n",
       "      <td>1</td>\n",
       "      <td>17</td>\n",
       "      <td>Private</td>\n",
       "      <td>101626</td>\n",
       "      <td>9th</td>\n",
       "      <td>5</td>\n",
       "      <td>Never-married</td>\n",
       "      <td>Machine-op-inspct</td>\n",
       "      <td>Own-child</td>\n",
       "      <td>White</td>\n",
       "      <td>Male</td>\n",
       "      <td>0</td>\n",
       "      <td>0</td>\n",
       "      <td>20</td>\n",
       "      <td>United-States</td>\n",
       "    </tr>\n",
       "    <tr>\n",
       "      <th>2</th>\n",
       "      <td>2</td>\n",
       "      <td>18</td>\n",
       "      <td>Private</td>\n",
       "      <td>353358</td>\n",
       "      <td>Some-college</td>\n",
       "      <td>10</td>\n",
       "      <td>Never-married</td>\n",
       "      <td>Other-service</td>\n",
       "      <td>Own-child</td>\n",
       "      <td>White</td>\n",
       "      <td>Male</td>\n",
       "      <td>0</td>\n",
       "      <td>0</td>\n",
       "      <td>16</td>\n",
       "      <td>United-States</td>\n",
       "    </tr>\n",
       "    <tr>\n",
       "      <th>3</th>\n",
       "      <td>3</td>\n",
       "      <td>21</td>\n",
       "      <td>Private</td>\n",
       "      <td>151158</td>\n",
       "      <td>Some-college</td>\n",
       "      <td>10</td>\n",
       "      <td>Never-married</td>\n",
       "      <td>Prof-specialty</td>\n",
       "      <td>Own-child</td>\n",
       "      <td>White</td>\n",
       "      <td>Female</td>\n",
       "      <td>0</td>\n",
       "      <td>0</td>\n",
       "      <td>25</td>\n",
       "      <td>United-States</td>\n",
       "    </tr>\n",
       "    <tr>\n",
       "      <th>4</th>\n",
       "      <td>4</td>\n",
       "      <td>24</td>\n",
       "      <td>Private</td>\n",
       "      <td>122234</td>\n",
       "      <td>Some-college</td>\n",
       "      <td>10</td>\n",
       "      <td>Never-married</td>\n",
       "      <td>Adm-clerical</td>\n",
       "      <td>Not-in-family</td>\n",
       "      <td>Black</td>\n",
       "      <td>Female</td>\n",
       "      <td>0</td>\n",
       "      <td>0</td>\n",
       "      <td>20</td>\n",
       "      <td>?</td>\n",
       "    </tr>\n",
       "  </tbody>\n",
       "</table>\n",
       "</div>"
      ],
      "text/plain": [
       "   id  age workclass  fnlwgt     education  education_num      marital_status  \\\n",
       "0   0   40   Private  168538       HS-grad              9  Married-civ-spouse   \n",
       "1   1   17   Private  101626           9th              5       Never-married   \n",
       "2   2   18   Private  353358  Some-college             10       Never-married   \n",
       "3   3   21   Private  151158  Some-college             10       Never-married   \n",
       "4   4   24   Private  122234  Some-college             10       Never-married   \n",
       "\n",
       "          occupation   relationship   race     sex  capital_gain  \\\n",
       "0              Sales        Husband  White    Male             0   \n",
       "1  Machine-op-inspct      Own-child  White    Male             0   \n",
       "2      Other-service      Own-child  White    Male             0   \n",
       "3     Prof-specialty      Own-child  White  Female             0   \n",
       "4       Adm-clerical  Not-in-family  Black  Female             0   \n",
       "\n",
       "   capital_loss  hours_per_week native_country  \n",
       "0             0              60  United-States  \n",
       "1             0              20  United-States  \n",
       "2             0              16  United-States  \n",
       "3             0              25  United-States  \n",
       "4             0              20              ?  "
      ]
     },
     "execution_count": 26,
     "metadata": {},
     "output_type": "execute_result"
    }
   ],
   "source": [
    "train.head() #'income'값 빠진것 확인"
   ]
  },
  {
   "cell_type": "markdown",
   "metadata": {},
   "source": [
    "범주형(catecorical) feature의 경우, encoding이 필요하다.\n",
    "## ENCODING 방법\n",
    "* Label Encoding\n",
    "* One hot Encoding\n",
    "* Mean Encoding"
   ]
  },
  {
   "cell_type": "code",
   "execution_count": 27,
   "metadata": {},
   "outputs": [],
   "source": [
    "from category_encoders.ordinal import OrdinalEncoder"
   ]
  },
  {
   "cell_type": "code",
   "execution_count": 28,
   "metadata": {},
   "outputs": [],
   "source": [
    "#pip install category_encoders"
   ]
  },
  {
   "cell_type": "code",
   "execution_count": 29,
   "metadata": {},
   "outputs": [],
   "source": [
    "LE_encoder =OrdinalEncoder(list(train.columns))\n",
    "train_le = LE_encoder.fit_transform(train)\n",
    "test_le = LE_encoder.transform(test)\n",
    "#문자형을 숫자형으로 변환"
   ]
  },
  {
   "cell_type": "code",
   "execution_count": 30,
   "metadata": {},
   "outputs": [
    {
     "data": {
      "text/html": [
       "<div>\n",
       "<style scoped>\n",
       "    .dataframe tbody tr th:only-of-type {\n",
       "        vertical-align: middle;\n",
       "    }\n",
       "\n",
       "    .dataframe tbody tr th {\n",
       "        vertical-align: top;\n",
       "    }\n",
       "\n",
       "    .dataframe thead th {\n",
       "        text-align: right;\n",
       "    }\n",
       "</style>\n",
       "<table border=\"1\" class=\"dataframe\">\n",
       "  <thead>\n",
       "    <tr style=\"text-align: right;\">\n",
       "      <th></th>\n",
       "      <th>id</th>\n",
       "      <th>age</th>\n",
       "      <th>workclass</th>\n",
       "      <th>fnlwgt</th>\n",
       "      <th>education</th>\n",
       "      <th>education_num</th>\n",
       "      <th>marital_status</th>\n",
       "      <th>occupation</th>\n",
       "      <th>relationship</th>\n",
       "      <th>race</th>\n",
       "      <th>sex</th>\n",
       "      <th>capital_gain</th>\n",
       "      <th>capital_loss</th>\n",
       "      <th>hours_per_week</th>\n",
       "      <th>native_country</th>\n",
       "    </tr>\n",
       "  </thead>\n",
       "  <tbody>\n",
       "    <tr>\n",
       "      <th>0</th>\n",
       "      <td>0</td>\n",
       "      <td>40</td>\n",
       "      <td>1</td>\n",
       "      <td>168538</td>\n",
       "      <td>1</td>\n",
       "      <td>9</td>\n",
       "      <td>1</td>\n",
       "      <td>1</td>\n",
       "      <td>1</td>\n",
       "      <td>1</td>\n",
       "      <td>1</td>\n",
       "      <td>0</td>\n",
       "      <td>0</td>\n",
       "      <td>60</td>\n",
       "      <td>1</td>\n",
       "    </tr>\n",
       "    <tr>\n",
       "      <th>1</th>\n",
       "      <td>1</td>\n",
       "      <td>17</td>\n",
       "      <td>1</td>\n",
       "      <td>101626</td>\n",
       "      <td>2</td>\n",
       "      <td>5</td>\n",
       "      <td>2</td>\n",
       "      <td>2</td>\n",
       "      <td>2</td>\n",
       "      <td>1</td>\n",
       "      <td>1</td>\n",
       "      <td>0</td>\n",
       "      <td>0</td>\n",
       "      <td>20</td>\n",
       "      <td>1</td>\n",
       "    </tr>\n",
       "    <tr>\n",
       "      <th>2</th>\n",
       "      <td>2</td>\n",
       "      <td>18</td>\n",
       "      <td>1</td>\n",
       "      <td>353358</td>\n",
       "      <td>3</td>\n",
       "      <td>10</td>\n",
       "      <td>2</td>\n",
       "      <td>3</td>\n",
       "      <td>2</td>\n",
       "      <td>1</td>\n",
       "      <td>1</td>\n",
       "      <td>0</td>\n",
       "      <td>0</td>\n",
       "      <td>16</td>\n",
       "      <td>1</td>\n",
       "    </tr>\n",
       "    <tr>\n",
       "      <th>3</th>\n",
       "      <td>3</td>\n",
       "      <td>21</td>\n",
       "      <td>1</td>\n",
       "      <td>151158</td>\n",
       "      <td>3</td>\n",
       "      <td>10</td>\n",
       "      <td>2</td>\n",
       "      <td>4</td>\n",
       "      <td>2</td>\n",
       "      <td>1</td>\n",
       "      <td>2</td>\n",
       "      <td>0</td>\n",
       "      <td>0</td>\n",
       "      <td>25</td>\n",
       "      <td>1</td>\n",
       "    </tr>\n",
       "    <tr>\n",
       "      <th>4</th>\n",
       "      <td>4</td>\n",
       "      <td>24</td>\n",
       "      <td>1</td>\n",
       "      <td>122234</td>\n",
       "      <td>3</td>\n",
       "      <td>10</td>\n",
       "      <td>2</td>\n",
       "      <td>5</td>\n",
       "      <td>3</td>\n",
       "      <td>2</td>\n",
       "      <td>2</td>\n",
       "      <td>0</td>\n",
       "      <td>0</td>\n",
       "      <td>20</td>\n",
       "      <td>2</td>\n",
       "    </tr>\n",
       "  </tbody>\n",
       "</table>\n",
       "</div>"
      ],
      "text/plain": [
       "   id  age  workclass  fnlwgt  education  education_num  marital_status  \\\n",
       "0   0   40          1  168538          1              9               1   \n",
       "1   1   17          1  101626          2              5               2   \n",
       "2   2   18          1  353358          3             10               2   \n",
       "3   3   21          1  151158          3             10               2   \n",
       "4   4   24          1  122234          3             10               2   \n",
       "\n",
       "   occupation  relationship  race  sex  capital_gain  capital_loss  \\\n",
       "0           1             1     1    1             0             0   \n",
       "1           2             2     1    1             0             0   \n",
       "2           3             2     1    1             0             0   \n",
       "3           4             2     1    2             0             0   \n",
       "4           5             3     2    2             0             0   \n",
       "\n",
       "   hours_per_week  native_country  \n",
       "0              60               1  \n",
       "1              20               1  \n",
       "2              16               1  \n",
       "3              25               1  \n",
       "4              20               2  "
      ]
     },
     "execution_count": 30,
     "metadata": {},
     "output_type": "execute_result"
    }
   ],
   "source": [
    "train_le.head()"
   ]
  },
  {
   "cell_type": "code",
   "execution_count": 31,
   "metadata": {},
   "outputs": [
    {
     "data": {
      "text/plain": [
       "OrdinalEncoder(cols=['workclass', 'education', 'marital_status', 'occupation', 'relationship', 'race', 'sex', 'native_country'],\n",
       "        drop_invariant=False, handle_missing='value',\n",
       "        handle_unknown='value',\n",
       "        mapping=[{'col': 'workclass', 'mapping': Private             1\n",
       "State-gov           2\n",
       "?                   3\n",
       "Self-emp-not-inc    4\n",
       "Local-gov           5\n",
       "Federal-gov         6\n",
       "Self-emp-inc        7\n",
       "Without-pay         8\n",
       "Never-worked        9\n",
       "NaN                -2\n",
       "dtype: int64, 'data_type': dtype('O')},...                         41\n",
       "NaN                           -2\n",
       "dtype: int64, 'data_type': dtype('O')}],\n",
       "        return_df=True,\n",
       "        verbose=['id', 'age', 'workclass', 'fnlwgt', 'education', 'education_num', 'marital_status', 'occupation', 'relationship', 'race', 'sex', 'capital_gain', 'capital_loss', 'hours_per_week', 'native_country'])"
      ]
     },
     "execution_count": 31,
     "metadata": {},
     "output_type": "execute_result"
    }
   ],
   "source": [
    "LE_encoder"
   ]
  },
  {
   "cell_type": "markdown",
   "metadata": {},
   "source": [
    "## 모델 훈련 및 예측 \n"
   ]
  },
  {
   "cell_type": "code",
   "execution_count": 34,
   "metadata": {},
   "outputs": [
    {
     "data": {
      "text/plain": [
       "DecisionTreeClassifier(class_weight=None, criterion='gini', max_depth=None,\n",
       "            max_features=None, max_leaf_nodes=None,\n",
       "            min_impurity_decrease=0.0, min_impurity_split=None,\n",
       "            min_samples_leaf=1, min_samples_split=2,\n",
       "            min_weight_fraction_leaf=0.0, presort=False, random_state=None,\n",
       "            splitter='best')"
      ]
     },
     "execution_count": 34,
     "metadata": {},
     "output_type": "execute_result"
    }
   ],
   "source": [
    "from sklearn.tree import DecisionTreeClassifier\n",
    "dt_clf = DecisionTreeClassifier()\n",
    "dt_clf.fit(train_le, target)\n",
    "#의사결정트리"
   ]
  },
  {
   "cell_type": "markdown",
   "metadata": {},
   "source": [
    "## 결과제출"
   ]
  },
  {
   "cell_type": "code",
   "execution_count": 35,
   "metadata": {},
   "outputs": [
    {
     "data": {
      "text/plain": [
       "array([0, 0, 0, ..., 0, 0, 0])"
      ]
     },
     "execution_count": 35,
     "metadata": {},
     "output_type": "execute_result"
    }
   ],
   "source": [
    "dt_clf.predict(test_le)"
   ]
  },
  {
   "cell_type": "code",
   "execution_count": 36,
   "metadata": {},
   "outputs": [],
   "source": [
    "sample_submission['prediction'] = dt_clf.predict(test_le).astype(int)\n",
    "sample_submission.to_csv('submission.csv', index=False)"
   ]
  },
  {
   "cell_type": "code",
   "execution_count": null,
   "metadata": {},
   "outputs": [],
   "source": []
  }
 ],
 "metadata": {
  "kernelspec": {
   "display_name": "Python 3",
   "language": "python",
   "name": "python3"
  },
  "language_info": {
   "codemirror_mode": {
    "name": "ipython",
    "version": 3
   },
   "file_extension": ".py",
   "mimetype": "text/x-python",
   "name": "python",
   "nbconvert_exporter": "python",
   "pygments_lexer": "ipython3",
   "version": "3.7.3"
  }
 },
 "nbformat": 4,
 "nbformat_minor": 4
}
